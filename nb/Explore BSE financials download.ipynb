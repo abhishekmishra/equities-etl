{
 "cells": [
  {
   "cell_type": "code",
   "execution_count": 3,
   "metadata": {},
   "outputs": [],
   "source": [
    "from bs4 import BeautifulSoup\n",
    "import requests\n",
    "import datetime\n",
    "import calendar\n",
    "import pandas as pd\n",
    "import numpy as np\n",
    "import matplotlib.pyplot as plt\n"
   ]
  },
  {
   "cell_type": "markdown",
   "metadata": {},
   "source": [
    "### Financial results URLs\n",
    "\n",
    "Consolidated financial results (qtr), HTTP GET\n",
    "https://www.bseindia.com/corporates/results.aspx?Code=500570&Company=TATA%20MOTORS%20LTD.&qtr=97.00&RType=c\n",
    " \n",
    "Standalone results (qtr), format excel, HTTP POST\n",
    "https://www.bseindia.com/corporates/results.aspx?Code=500570&Company=TATA+MOTORS+LTD.&qtr=97.00&RType=D\n",
    "\n",
    "So essentially the format of the URLs is same, but in one case some form data is submitted to get the financials in excel format.\n",
    "\n",
    "#### Annual results format\n",
    "\n",
    "Notice that qtr is half, so the same URL with a different param value for qtr.\n",
    "https://www.bseindia.com/corporates/results.aspx?Code=500570&Company=TATA%20MOTORS%20LTD.&qtr=97.50&RType=c"
   ]
  },
  {
   "cell_type": "code",
   "execution_count": null,
   "metadata": {},
   "outputs": [],
   "source": []
  }
 ],
 "metadata": {
  "kernelspec": {
   "display_name": "Python 3",
   "language": "python",
   "name": "python3"
  },
  "language_info": {
   "codemirror_mode": {
    "name": "ipython",
    "version": 3
   },
   "file_extension": ".py",
   "mimetype": "text/x-python",
   "name": "python",
   "nbconvert_exporter": "python",
   "pygments_lexer": "ipython3",
   "version": "3.6.5"
  }
 },
 "nbformat": 4,
 "nbformat_minor": 2
}
